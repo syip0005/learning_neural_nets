{
 "cells": [
  {
   "cell_type": "markdown",
   "metadata": {},
   "source": [
    "# Feedforward Neural Network Programming\n",
    "\n",
    "## What am I doing?\n",
    "\n",
    "Before jumping into libraries like TensorFlow or PyTorch, I'll be learning to code a feed-forward neural net from scratch with binary classification (https://en.wikipedia.org/wiki/Feedforward_neural_network)\n",
    "\n",
    "<img src='https://upload.wikimedia.org/wikipedia/en/5/54/Feed_forward_neural_net.gif' width=50%></img>\n",
    "<center>Src: Wikipedia</center>\n",
    "\n",
    "My aims from doing this are:\n",
    "* an in-depth understanding of neural nets (activation functions, vector operations)\n",
    "* practicing Python\n",
    "* applying mathematical knowledge learned from my fundamentals class\n",
    "\n",
    "I will limit myself to the following libraries:\n",
    "* numpy\n",
    "* scipy\n",
    "* math\n",
    "* and other plotting functions\n",
    "\n",
    "## Base understanding comes from:\n",
    "\n",
    "* 3Blue1Brown's excellent series: <a href='https://www.youtube.com/watch?v=aircAruvnKk&ab_channel=3Blue1Brown'>here</a>\n",
    "* sentdexs' guidance at: <a href='https://www.youtube.com/watch?v=Wo5dMEP_BbI&list=PLQVvvaa0QuDcjD5BAw2DxE6OF2tius3V3&index=1&t=37s&ab_channel=sentdex'>here</a>\n",
    "* Brandon Rohrer's explanation at: <a href='https://www.youtube.com/watch?v=ILsA4nyG7I0&ab_channel=BrandonRohrer'>here</a>\n",
    "\n",
    "...and Wikipedia!\n",
    "\n",
    "Having already watched and read this guidance, I will try implement the code from mathematical formulas without too much other guidance. If I am using guidance, it will be referenced as such.\n",
    "\n",
    "## Why Jupyter notebook?\n",
    "\n",
    "So I can add markdown cells as I learn!\n",
    "\n",
    "### Details\n",
    "\n",
    "Let's try initially:\n",
    "\n",
    "* 2 Inputs (1 Input for testing)\n",
    "* Hidden layers (4 neurons, 2 layers, 1 bias for each layer)\n",
    "* 1 output\n",
    "\n",
    "### High Level Concept Drawing along with Feedforward matrix sizes\n",
    "\n",
    "<img src='./ff_concept.jpg'></img>"
   ]
  },
  {
   "cell_type": "code",
   "execution_count": 118,
   "metadata": {},
   "outputs": [],
   "source": [
    "# Imports\n",
    "\n",
    "import os\n",
    "import numpy as np\n",
    "import matplotlib.pyplot as plt\n",
    "import matplotlib.cm as cm\n",
    "import math\n",
    "%matplotlib inline"
   ]
  },
  {
   "cell_type": "markdown",
   "metadata": {},
   "source": [
    "### Step 0 - Generate some dummy data to test\n",
    "\n",
    "(admittedly, the below took a bit too long to figure out)"
   ]
  },
  {
   "cell_type": "code",
   "execution_count": 504,
   "metadata": {},
   "outputs": [
    {
     "data": {
      "image/png": "[encoded data removed]",
      "text/plain": [
       "<Figure size 576x288 with 2 Axes>"
      ]
     },
     "metadata": {
      "needs_background": "light"
     },
     "output_type": "display_data"
    }
   ],
   "source": [
    "# To do: create data_set with obvious features\n",
    "\n",
    "# Single Record for Testing\n",
    "x_data_1 = np.random.rand(1,2) # single record for testing\n",
    "\n",
    "# Create an easy dataset - one numerical input and one numerical output (actually a sin relationship)\n",
    "\n",
    "x_data_easy = np.linspace(0,1) # cos relationship for testing\n",
    "y_data_easy = np.cos(x_data_easy*3.14)\n",
    "\n",
    "# Create a hard dataset - two inputs (feat1, feat2) and classification output (1, or 0). 1s have actually have a linear\n",
    "# relationship between feats1 and feat2 and 0s have a cosine relationship between feat1 and feat2 with a bit of\n",
    "# noise added in\n",
    "\n",
    "x1_data_hard_1 = np.linspace(0,1,num=101,axis=0).reshape(-1,1)\n",
    "x2_data_hard_1 = np.linspace(0,1,num=101,axis=0).reshape(-1,1) + np.random.default_rng().uniform(-0.05,0.05,size=(101,1))\n",
    "\n",
    "x_data_hard_cluster1 = np.hstack((x1_data_hard_1, x2_data_hard_1))\n",
    "\n",
    "x1_data_hard_2 = np.linspace(0,1,num=101,axis=0).reshape(-1,1)\n",
    "x2_data_hard_2 = np.cos(np.linspace(0,1,num=101,axis=0).reshape(-1,1)) + np.random.default_rng().uniform(-0.05,0.05,size=(101,1))\n",
    "\n",
    "x_data_hard_cluster2 = np.hstack((x1_data_hard_2, x2_data_hard_2))\n",
    "\n",
    "x_data_hard = np.vstack((x_data_hard_cluster1, x_data_hard_cluster2))\n",
    "\n",
    "y_data_hard = np.zeros(shape=(len(x_data_hard),1))\n",
    "y_data_hard[:len(x_data_hard_cluster1)] = 1\n",
    "\n",
    "# Let's have a look at just the first column of this to ensure random variables came out correctly\n",
    "\n",
    "fig, ax = plt.subplots(1, 2, figsize=(8,4))\n",
    "\n",
    "ax[0].scatter(x_data_hard[:len(x_data_hard_cluster1),0], x_data_hard[:len(x_data_hard_cluster1),1], color='red',label='1')\n",
    "ax[0].scatter(x_data_hard[len(x_data_hard_cluster1):,0], x_data_hard[len(x_data_hard_cluster1):,1], color='blue',label='0')\n",
    "ax[0].set_title('x_data_hard')\n",
    "ax[0].legend()\n",
    "ax[0].set_xlabel('feat1')\n",
    "ax[0].set_ylabel('feat2')\n",
    "ax[1].scatter(x_data_easy, y_data_easy)\n",
    "ax[1].set_title('x_data_easy')\n",
    "ax[1].set_xlabel('feat1')\n",
    "ax[1].set_ylabel('y_true')\n",
    "\n",
    "fig.tight_layout()\n",
    "plt.show()"
   ]
  },
  {
   "cell_type": "markdown",
   "metadata": {},
   "source": [
    "### Step 1 - Activation Functions\n",
    "\n",
    "Let's start by coding a class which holds our various activation functions, so that they can be called upon at anytime.\n",
    "\n",
    "We will program this similar to how sklearn and other such libraries hold unique models (i.e. the ActivationFunction class will be instantiated, and the various methods will be the different activation functions)\n",
    "\n",
    "We will take a couple popular examples from the Wiki page: https://en.wikipedia.org/wiki/Activation_function\n",
    "\n",
    "Specifically:\n",
    "\n",
    "* Identity: <img src='https://wikimedia.org/api/rest_v1/media/math/render/svg/87f9e315fd7e2ba406057a97300593c4802b53e4'></img>\n",
    "* Sigmoid: <img src='https://wikimedia.org/api/rest_v1/media/math/render/svg/b2a78e39c42d7d51c4041d142740a7719e55b314'></img>\n",
    "* Hyperbolic Tangent: <img src='https://wikimedia.org/api/rest_v1/media/math/render/svg/f8e81902c8d71b06c246769bad0fe17c9cf1efd9'></img>\n",
    "* ReLU: <img src='https://wikimedia.org/api/rest_v1/media/math/render/svg/281532984565d3931de1cd1edc6e006d59fc67f4'></img>\n",
    "* Softmax: <img src='https://wikimedia.org/api/rest_v1/media/math/render/svg/3bbfe09d9d37eb94cd7a86b1bdfa24fc60e4cba5'></img>\n",
    "\n",
    "The Softmax function does not take in a singular input unlike the other functions but rather deals with multidimensional data. As such, I have referred to the following deepai.org article which has explained it: refer <a href='https://deepai.org/machine-learning-glossary-and-terms/softmax-layer'>here</a>"
   ]
  },
  {
   "cell_type": "code",
   "execution_count": 109,
   "metadata": {},
   "outputs": [],
   "source": [
    "class ActivationFunction():\n",
    "    \n",
    "    \"\"\"The inputs to the methods of the ActivationFunction object will be x,\n",
    "    ise numpy where possible as we may want to take in multiple scalars\"\"\"\n",
    "    \n",
    "    # Class variables\n",
    "    \n",
    "    def __init__(self):\n",
    "        self.af_types = ['identity', 'sigmoid', 'hyperbolic_tangent', 'relu', 'softmax']\n",
    "    \n",
    "    def identity(self, x):\n",
    "        return x\n",
    "    \n",
    "    def sigmoid(self, x):\n",
    "        y = (1)/(1+np.exp(-x))\n",
    "        return y\n",
    "    \n",
    "    def hyperbolic_tangent(self, x):\n",
    "        x_temp = np.copy(x)\n",
    "        y = (np.exp(x_temp) - np.exp(-x_temp))/(np.exp(x_temp) + np.exp(-x_temp))\n",
    "        return y\n",
    "    \n",
    "    def relu(self, x):\n",
    "        \n",
    "        y = np.copy(x)\n",
    "        y[y < 0] = 0\n",
    "        return y\n",
    "        \n",
    "    def softmax(self, x_array):\n",
    "        \n",
    "        \"\"\"Note that Softmax function takes a vector as an input and outputs a vector\"\"\"\n",
    "        \n",
    "        x_array = np.array(x_array)        \n",
    "        softmax_func = lambda x: np.exp(x)\n",
    "        \n",
    "        y_array = softmax_func(x_array)\n",
    "        \n",
    "        y_array_sum = sum(y_array)\n",
    "        \n",
    "        return y_array / y_array_sum    "
   ]
  },
  {
   "cell_type": "code",
   "execution_count": 110,
   "metadata": {},
   "outputs": [
    {
     "data": {
      "image/png": "[encoded data removed]",
      "text/plain": [
       "<Figure size 864x504 with 4 Axes>"
      ]
     },
     "metadata": {
      "needs_background": "light"
     },
     "output_type": "display_data"
    }
   ],
   "source": [
    "# Let's see if it worked\n",
    "\n",
    "af = ActivationFunction()\n",
    "\n",
    "# initialise some test x data\n",
    "test_x = np.arange(-5,5)\n",
    "\n",
    "# use the activation function to generate y\n",
    "\n",
    "y_identity = af.identity(test_x)\n",
    "y_sigmoid = af.sigmoid(test_x)\n",
    "y_tanh = af.hyperbolic_tangent(test_x)\n",
    "y_relu = af.relu(test_x)\n",
    "\n",
    "list_all = ['y_identity', 'y_sigmoid', 'y_tanh', 'y_relu']\n",
    "\n",
    "# plot them\n",
    "\n",
    "fig, ax = plt.subplots(2,2,figsize=(12,7))\n",
    "\n",
    "for i, ax in zip(list_all, ax.flat):\n",
    "    \n",
    "    y = globals()[i]\n",
    "    \n",
    "    ax.plot(test_x, y)\n",
    "    ax.set_xlim(left=-5,right=5)\n",
    "    ax.set_ylim(bottom=-5,top=5)\n",
    "    ax.set_title(str(i))\n",
    "    ax.spines['left'].set_position('zero')\n",
    "    ax.spines['right'].set_color('none')\n",
    "    ax.spines['bottom'].set_position('zero')\n",
    "    ax.spines['top'].set_color('none')\n",
    "\n",
    "\n",
    "plt.show()"
   ]
  },
  {
   "cell_type": "markdown",
   "metadata": {},
   "source": [
    "The above doesn't look too shabby, so the activation functions look like they're working!\n",
    "\n",
    "### Step 2 - the Layer\n",
    "\n",
    "Let's start by coding out a class for the Layer and give it a couple methods such as how the neurons will be calculated\n",
    "\n",
    "Note: my initial idea was to code the <b>neuron</b> but in hindisght this made it incredibly difficult as we would have to intialise many neurons. Instead we will code a layer, which will take as a parameter the number of neurons.\n",
    "\n",
    "<b>Feed forwarding</b> is defined as:\n",
    "\n",
    "<img src='https://www.researchgate.net/profile/Lin-Fritschi/publication/8332488/figure/fig2/AS:601679661633573@1520463018727/Simplified-representation-of-an-individual-neuron-showing-inputs-weights-weighted-sum.png'></img>\n",
    "\n",
    "We will also create the following functions:\n",
    "* intialising random weights\n",
    "* initialising random biases"
   ]
  },
  {
   "cell_type": "code",
   "execution_count": 571,
   "metadata": {},
   "outputs": [],
   "source": [
    "class Dense_Layer():\n",
    "    \n",
    "    af = ActivationFunction()\n",
    "    \n",
    "    def __init__(self, input_layer, size, activation = 'relu', weights = None, biases = None, values = None): \n",
    "        \n",
    "        # activation function selection\n",
    "        if activation not in af.af_types:  \n",
    "            raise ValueError('Please only choose an activation function in {}'.format(af.af_types))\n",
    "        else:\n",
    "            self.activation = activation\n",
    "           \n",
    "        # check what sort of input layer it is (numpy array or Layer)\n",
    "        if isinstance(input_layer, np.ndarray):\n",
    "            self.input_size = input_layer.shape[1]\n",
    "            self.input_values = input_layer\n",
    "        elif isinstance(input_layer, Dense_Layer):\n",
    "            self.input_size = len(input_layer)\n",
    "            self.input_values = input_layer.values\n",
    "        else:\n",
    "            raise TypeError('Please ensure that input layer is an array or Layer.')\n",
    "        \n",
    "        self.weights = weights\n",
    "        self.input_layer = input_layer\n",
    "        self.size = size\n",
    "        self.biases = biases\n",
    "\n",
    "    def randomise_weights(self):\n",
    "        \n",
    "        \"\"\"If no weights have been pre-selected, intialise weights with random values between 0 and 1\"\"\"\n",
    "        \"\"\"Size expected will be (number of neurons in input * number of neurons)\"\"\"\n",
    "        \n",
    "        self.weights = np.random.rand(self.input_size, self.size)\n",
    "        \n",
    "    def randomise_biases(self):\n",
    "        \n",
    "        \"\"\"Randomise biases\"\"\"\n",
    "        \"\"\"Size expected will be (1 * number of neurons)\"\"\"\n",
    "        \n",
    "        self.biases = np.random.rand(1, self.size)\n",
    "\n",
    "    def feedforward(self):\n",
    "        \n",
    "        \"\"\"Feed forward is just the dot product of the weights and inputs + the biases, which are then subject to \n",
    "        some sort of activation function\"\"\"\n",
    "        \n",
    "        # Ensure that weights and biases are not None\n",
    "        \n",
    "        if self.weights is None: self.randomise_weights()\n",
    "        \n",
    "        if self.biases is None: self.randomise_biases()\n",
    "        \n",
    "        if self.input_size == self.weights.shape[0]: # ensure that shape size of matrix multiplication is appropriate      \n",
    "            self.values = getattr(af, self.activation)(np.dot(self.input_values, self.weights) + self.biases)\n",
    "        else:\n",
    "            raise ValueError('Length of weights and input array do not match!')\n",
    "            \n",
    "        return self.values\n",
    "    \n",
    "    def __len__(self):\n",
    "        return self.size\n",
    "    \n",
    "    \n",
    "    def __str__(self):\n",
    "        \n",
    "        np.set_printoptions(precision=2) # make sure prints okay\n",
    "        \n",
    "        return \"Dense Layer\\n=======================================\\\n",
    "        \\n\\nWeights: \\n {}\\n\\nBiases: \\n {}\\n\\nValues: \\n {}\".format(self.weights, self.biases, self.values)\n",
    "        \n",
    "    "
   ]
  },
  {
   "cell_type": "code",
   "execution_count": 577,
   "metadata": {},
   "outputs": [
    {
     "name": "stdout",
     "output_type": "stream",
     "text": [
      "[[0.49 0.51]]\n"
     ]
    }
   ],
   "source": [
    "a = Dense_Layer(x_data_1, size= 4,activation='relu')\n",
    "print(x_data_1) # show the test data"
   ]
  },
  {
   "cell_type": "code",
   "execution_count": 578,
   "metadata": {},
   "outputs": [
    {
     "name": "stdout",
     "output_type": "stream",
     "text": [
      "[[0.69 0.69 1.33 0.81]] \n",
      "\n",
      "Dense Layer\n",
      "=======================================        \n",
      "\n",
      "Weights: \n",
      " [[0.19 0.24 0.95 0.83]\n",
      " [0.36 0.21 0.14 0.72]]\n",
      "\n",
      "Biases: \n",
      " [[0.41 0.46 0.79 0.04]]\n",
      "\n",
      "Values: \n",
      " [[0.69 0.69 1.33 0.81]]\n"
     ]
    }
   ],
   "source": [
    "print(a.feedforward(),'\\n')\n",
    "print(a)"
   ]
  },
  {
   "cell_type": "code",
   "execution_count": 581,
   "metadata": {},
   "outputs": [],
   "source": [
    "b = Dense_Layer(a, size=4, activation='relu')"
   ]
  },
  {
   "cell_type": "code",
   "execution_count": 582,
   "metadata": {},
   "outputs": [
    {
     "name": "stdout",
     "output_type": "stream",
     "text": [
      "[[2.46 1.95 2.47 3.39]] \n",
      "\n",
      "\n",
      "Dense Layer\n",
      "=======================================        \n",
      "\n",
      "Weights: \n",
      " [[0.2  0.77 0.98 0.46]\n",
      " [0.9  0.59 0.57 0.91]\n",
      " [0.6  0.02 0.57 0.57]\n",
      " [0.84 0.34 0.35 0.89]]\n",
      "\n",
      "Biases: \n",
      " [[0.22 0.71 0.36 0.96]]\n",
      "\n",
      "Values: \n",
      " [[2.46 1.95 2.47 3.39]]\n"
     ]
    }
   ],
   "source": [
    "print(b.feedforward(),'\\n\\n')\n",
    "print(b)"
   ]
  },
  {
   "cell_type": "code",
   "execution_count": null,
   "metadata": {},
   "outputs": [],
   "source": []
  },
  {
   "cell_type": "code",
   "execution_count": null,
   "metadata": {},
   "outputs": [],
   "source": []
  }
 ],
 "metadata": {
  "kernelspec": {
   "display_name": "Python 3",
   "language": "python",
   "name": "python3"
  },
  "language_info": {
   "codemirror_mode": {
    "name": "ipython",
    "version": 3
   },
   "file_extension": ".py",
   "mimetype": "text/x-python",
   "name": "python",
   "nbconvert_exporter": "python",
   "pygments_lexer": "ipython3",
   "version": "3.8.8"
  },
  "pycharm": {
   "stem_cell": {
    "cell_type": "raw",
    "metadata": {
     "collapsed": false
    },
    "source": [
     "Managed cell\n",
     "print('hi'"
    ]
   }
  }
 },
 "nbformat": 4,
 "nbformat_minor": 1
}
